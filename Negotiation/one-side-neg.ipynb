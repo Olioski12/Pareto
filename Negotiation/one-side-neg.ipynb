{
 "cells": [
  {
   "cell_type": "code",
   "execution_count": null,
   "metadata": {},
   "outputs": [
    {
     "name": "stdout",
     "output_type": "stream",
     "text": [
      "The ZOPA is $30 to $70\n"
     ]
    }
   ],
   "source": [
    "price = 50\n",
    "\n",
    "name = input(\"Y/N Do you know what a BATNA is?\")\n",
    "if (name == 'N'):\n",
    "    test = 'N'\n",
    "    B = price+5\n",
    "    while (test == 'N'):\n",
    "        B = B-5\n",
    "        test = input(f\"Y/N would you agree to ${B}?\")\n",
    "        \n",
    "    test = 'N'\n",
    "    OB = price-5\n",
    "    while (test == 'N'):\n",
    "        OB = OB + 5\n",
    "        test = input(f\"Y/N would you agree to ${OB}?\")\n",
    "        \n",
    "    \n",
    "\n",
    "        \n",
    "else:\n",
    "    B = int(input(\"What is your BATNA?\"))\n",
    "    OB = int(input(\"What do you believe your opponent's BATNA is?\"))\n",
    "\n",
    "print(f'The ZOPA is ${B} to ${OB}')\n",
    "\n"
   ]
  },
  {
   "cell_type": "markdown",
   "metadata": {},
   "source": [
    "To Do\n",
    "Add"
   ]
  }
 ],
 "metadata": {
  "kernelspec": {
   "display_name": "Python 3",
   "language": "python",
   "name": "python3"
  },
  "language_info": {
   "codemirror_mode": {
    "name": "ipython",
    "version": 3
   },
   "file_extension": ".py",
   "mimetype": "text/x-python",
   "name": "python",
   "nbconvert_exporter": "python",
   "pygments_lexer": "ipython3",
   "version": "3.12.0"
  }
 },
 "nbformat": 4,
 "nbformat_minor": 2
}
