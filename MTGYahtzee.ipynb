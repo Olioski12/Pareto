{
 "cells": [
  {
   "cell_type": "code",
   "execution_count": 2,
   "metadata": {},
   "outputs": [
    {
     "name": "stdout",
     "output_type": "stream",
     "text": [
      "[4, 5, 4, 4, 5]\n"
     ]
    }
   ],
   "source": [
    "import numpy as np\n",
    "\n",
    "nums = np.array([[1,2,3,4,5,6],[1,2,3,4,5,6],[1,2,3,4,5,6],[1,2,3,4,5,6],[1,2,3,4,5,6]])\n",
    "cols = np.array([[1,1,0,1,0,1],[1,0,1,0,1,0],[0,1,0,1,0,1],[1,0,1,0,1,0],[0,0,0,1,1,1]])\n",
    "\n",
    "def sample(arr):\n",
    "    out = []\n",
    "    for i in range(len(arr)):\n",
    "        out.append(np.random.choice(arr[i]))\n",
    "    return out\n",
    "\n",
    "def win_eval(arr):\n",
    "    #pair, 3, straight, full house, 4, 5,flush, sf \n",
    "    out = [0,0,0,0,0,0,0]\n",
    "\n",
    "    arr_count = []\n",
    "    for i in range(6):\n",
    "        count = arr.count(i+1)\n",
    "        arr_count.append(count)\n",
    "\n",
    "    if (max(arr_count)==5):\n",
    "        out[5] += 1\n",
    "    elif (max(arr_count)==4):\n",
    "        out[4] += 1\n",
    "    elif (max(arr_count)==3):\n",
    "        out[1] += 1\n",
    "        if(2 in arr_count):\n",
    "            out[3] += 1\n",
    "    elif (max(arr_count)==2):\n",
    "        out[0] += 1\n",
    "\n",
    "    \n",
    "\n",
    "    \n",
    "\n",
    "    return out\n",
    "\n",
    "\n",
    "a = [0,0,0,0,0,0,0]\n",
    "while(a[3] == 0):\n",
    "    b = sample(nums)\n",
    "    a = win_eval(b)\n",
    "print(b)"
   ]
  }
 ],
 "metadata": {
  "kernelspec": {
   "display_name": "Python 3",
   "language": "python",
   "name": "python3"
  },
  "language_info": {
   "codemirror_mode": {
    "name": "ipython",
    "version": 3
   },
   "file_extension": ".py",
   "mimetype": "text/x-python",
   "name": "python",
   "nbconvert_exporter": "python",
   "pygments_lexer": "ipython3",
   "version": "3.12.0"
  }
 },
 "nbformat": 4,
 "nbformat_minor": 2
}
