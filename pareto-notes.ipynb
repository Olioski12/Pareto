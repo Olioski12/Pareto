{
 "cells": [
  {
   "cell_type": "code",
   "execution_count": null,
   "metadata": {},
   "outputs": [],
   "source": []
  },
  {
   "cell_type": "markdown",
   "metadata": {},
   "source": [
    "pareto\n",
    "- given preferences, solve\n",
    "    - provide options that improve scenario\n",
    "    - creativity\n",
    "    - dimensionality\n",
    "- determine preferences\n",
    "- blockchain"
   ]
  }
 ],
 "metadata": {
  "language_info": {
   "name": "python"
  }
 },
 "nbformat": 4,
 "nbformat_minor": 2
}
